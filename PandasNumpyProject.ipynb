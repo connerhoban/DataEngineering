{
 "cells": [
  {
   "cell_type": "code",
   "execution_count": 2,
   "id": "5b95a606",
   "metadata": {},
   "outputs": [],
   "source": [
    "import pandas as pd\n",
    "import numpy as np\n",
    "df = pd.read_csv('sales-data.csv')\n"
   ]
  },
  {
   "cell_type": "code",
   "execution_count": 35,
   "id": "f1dfca34",
   "metadata": {},
   "outputs": [
    {
     "name": "stdout",
     "output_type": "stream",
     "text": [
      "       Total Sales\n",
      "Month             \n",
      "12      4613443.34\n",
      "10      3736726.88\n",
      "4       3390670.24\n",
      "11      3199603.20\n",
      "5       3152606.75\n",
      "3       2807100.38\n",
      "7       2647775.76\n",
      "6       2577802.26\n",
      "8       2244467.88\n",
      "2       2202022.42\n",
      "9       2097560.13\n",
      "1       1822256.73 \n",
      "\n",
      "       Total Sales\n",
      "Month             \n",
      "1       1822256.73\n",
      "2       2202022.42\n",
      "3       2807100.38\n",
      "4       3390670.24\n",
      "5       3152606.75\n",
      "6       2577802.26\n",
      "7       2647775.76\n",
      "8       2244467.88\n",
      "9       2097560.13\n",
      "10      3736726.88\n",
      "11      3199603.20\n",
      "12      4613443.34\n",
      "\n",
      " Month:  12  Sales Amount:  4613443.34\n"
     ]
    }
   ],
   "source": [
    "#1\n",
    "\n",
    "df['Order Date'] = pd.to_datetime(df['Order Date'])\n",
    "df['Total Sales'] = df['Quantity Ordered']*df['Price Each']\n",
    "df1 = df.pivot_table(index='Month', values = 'Total Sales',aggfunc=np.sum)\n",
    "print(df1.sort_values(by = 'Total Sales', ascending = False),'\\n')\n",
    "print(df1)\n",
    "print('\\n','Month: ', df1['Total Sales'].idxmax(), \" Sales Amount: \", df1['Total Sales'].max())"
   ]
  },
  {
   "cell_type": "code",
   "execution_count": 31,
   "id": "32a2b826",
   "metadata": {
    "scrolled": true
   },
   "outputs": [
    {
     "name": "stdout",
     "output_type": "stream",
     "text": [
      "\n",
      " City:  San Francisco  (CA)  Quantity Ordered:  50239\n"
     ]
    }
   ],
   "source": [
    "#2\n",
    "\n",
    "df2 = df.groupby('City')['Quantity Ordered'].sum()\n",
    "print('\\n','City: ', df2.idxmax(), \" Quantity Ordered: \", df2.max())\n",
    "\n"
   ]
  },
  {
   "cell_type": "code",
   "execution_count": null,
   "id": "95a9c5e5",
   "metadata": {},
   "outputs": [],
   "source": []
  },
  {
   "cell_type": "code",
   "execution_count": null,
   "id": "5d3efca7",
   "metadata": {},
   "outputs": [],
   "source": []
  }
 ],
 "metadata": {
  "kernelspec": {
   "display_name": "Python 3 (ipykernel)",
   "language": "python",
   "name": "python3"
  },
  "language_info": {
   "codemirror_mode": {
    "name": "ipython",
    "version": 3
   },
   "file_extension": ".py",
   "mimetype": "text/x-python",
   "name": "python",
   "nbconvert_exporter": "python",
   "pygments_lexer": "ipython3",
   "version": "3.9.7"
  }
 },
 "nbformat": 4,
 "nbformat_minor": 5
}
